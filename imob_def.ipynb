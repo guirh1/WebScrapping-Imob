{
 "cells": [
  {
   "cell_type": "code",
   "execution_count": null,
   "metadata": {
    "collapsed": true,
    "pycharm": {
     "name": "#%%\n",
     "is_executing": true
    }
   },
   "outputs": [],
   "source": [
    "from bs4 import BeautifulSoup\n",
    "import requests\n",
    "import re"
   ]
  },
  {
   "cell_type": "code",
   "execution_count": null,
   "outputs": [],
   "source": [
    "agent = {\"User-Agent\":\"Agente Magico\"}"
   ],
   "metadata": {
    "collapsed": false,
    "pycharm": {
     "name": "#%%\n",
     "is_executing": true
    }
   }
  },
  {
   "cell_type": "code",
   "execution_count": null,
   "outputs": [],
   "source": [
    "url = \"https://www.faax.com.br/filtro/venda/casas/todas/todos/todos/1/col/5/DESC\"\n",
    "resposta = requests.get(url, headers=agent)\n",
    "soup = BeautifulSoup(resposta.text, \"html\")\n",
    "df = str(soup.find_all('img', src=\"https://www.faax.com.br/images/naoencontrou.jpg\"))\n",
    "df\n",
    "type(df)"
   ],
   "metadata": {
    "collapsed": false,
    "pycharm": {
     "name": "#%%\n",
     "is_executing": true
    }
   }
  },
  {
   "cell_type": "code",
   "execution_count": null,
   "outputs": [],
   "source": [
    "def getLastPageVenda():\n",
    "    controle_certo = df\n",
    "    controle = \"\"\n",
    "    pagina = 1\n",
    "    last_page = 0\n",
    "    while controle != controle_certo:\n",
    "        url = \"https://www.faax.com.br/filtro/venda/casas/todas/todos/todos/1/col/\"+ str(pagina) + \"/DESC\"\n",
    "\n",
    "        resposta = requests.get(url, headers=agent)\n",
    "        soup = BeautifulSoup(resposta.text, 'html')\n",
    "        controle = str(soup.h2)\n",
    "        pagina = pagina + 1\n",
    "        last_page = pagina - 2\n",
    "\n",
    "    return last_page"
   ],
   "metadata": {
    "collapsed": false,
    "pycharm": {
     "name": "#%%\n",
     "is_executing": true
    }
   }
  },
  {
   "cell_type": "code",
   "execution_count": null,
   "outputs": [],
   "source": [
    "def getLinksVenda():\n",
    "\n",
    "    imoveis_venda = []\n",
    "\n",
    "    for i in range(0,getLastPageVenda() + 1):\n",
    "        url = \"https://www.faax.com.br/filtro/venda/casas/todas/todos/todos/1/col/\"+ str(i) + \"/DESC\"\n",
    "\n",
    "        resposta = requests.get(url, headers=agent)\n",
    "        soup = BeautifulSoup(resposta.text, 'html')\n",
    "\n",
    "        for link in soup.find_all('img'):\n",
    "            if \"/imovel/\" in link['href']:\n",
    "                imoveis_venda.append(link['href'])\n",
    "\n",
    "    imoveis_venda = set(imoveis_venda)\n",
    "\n",
    "    return list(imoveis_venda)"
   ],
   "metadata": {
    "collapsed": false,
    "pycharm": {
     "name": "#%%\n",
     "is_executing": true
    }
   }
  },
  {
   "cell_type": "code",
   "execution_count": null,
   "outputs": [],
   "source": [
    "imoveis_venda = getLinksVenda()"
   ],
   "metadata": {
    "collapsed": false,
    "pycharm": {
     "name": "#%%\n",
     "is_executing": true
    }
   }
  },
  {
   "cell_type": "code",
   "execution_count": null,
   "outputs": [],
   "source": [
    "imoveis_venda"
   ],
   "metadata": {
    "collapsed": false,
    "pycharm": {
     "name": "#%%\n",
     "is_executing": true
    }
   }
  },
  {
   "cell_type": "code",
   "execution_count": null,
   "outputs": [],
   "source": [],
   "metadata": {
    "collapsed": false,
    "pycharm": {
     "name": "#%%\n"
    }
   }
  }
 ],
 "metadata": {
  "kernelspec": {
   "display_name": "Python 3",
   "language": "python",
   "name": "python3"
  },
  "language_info": {
   "codemirror_mode": {
    "name": "ipython",
    "version": 2
   },
   "file_extension": ".py",
   "mimetype": "text/x-python",
   "name": "python",
   "nbconvert_exporter": "python",
   "pygments_lexer": "ipython2",
   "version": "2.7.6"
  }
 },
 "nbformat": 4,
 "nbformat_minor": 0
}